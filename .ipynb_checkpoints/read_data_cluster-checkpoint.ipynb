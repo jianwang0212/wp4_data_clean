{
 "cells": [
  {
   "cell_type": "code",
   "execution_count": null,
   "metadata": {},
   "outputs": [],
   "source": [
    "import pandas as pd\n",
    "import pyarrow.parquet as pq\n",
    "import pyarrow as pa\n",
    "import glob\n",
    "import os\n",
    "pd.options.mode.chained_assignment = None"
   ]
  },
  {
   "cell_type": "code",
   "execution_count": 2,
   "metadata": {},
   "outputs": [],
   "source": [
    "def load_all_paths_parquet_with_text(country, year):\n",
    "    path = '../data_with_text/' + country + '/' + year + '/*.parquet'\n",
    "    return sorted(glob.glob(path))\n",
    "\n",
    "def load_all_paths_parquet_no_text(country, year):\n",
    "    path = '../data_no_text/' + country + '/' + year + '/*.parquet'\n",
    "    return sorted(glob.glob(path))\n",
    "\n",
    "def load_file(path):\n",
    "    table = pq.read_table(path)\n",
    "    return table.to_pandas()\n",
    "\n",
    "def load_files(country, year, number):\n",
    "    paths = load_all_paths_parquet_no_text(country, year)[:number]\n",
    "    myDataFrame = pd.DataFrame()\n",
    "    for path in paths:\n",
    "        table = pq.read_table(path).to_pandas()\n",
    "        myDataFrame = myDataFrame.append(table)\n",
    "    return myDataFrame"
   ]
  },
  {
   "cell_type": "code",
   "execution_count": 3,
   "metadata": {},
   "outputs": [],
   "source": [
    "df = load_files('UK', '2016',2)"
   ]
  },
  {
   "cell_type": "code",
   "execution_count": 9,
   "metadata": {},
   "outputs": [],
   "source": [
    "\n",
    "def element_to_list(element):\n",
    "    return str(element).replace(\";\", \"&\").replace('\"', \"\").split(\"&\")\n",
    "\n",
    "def expand_skill(df):\n",
    "    df = df[['JobID', 'SICCode','JobDate','CanonCity','CanonCounty',\n",
    "             'LocalAuthorityDistrict',\n",
    "             'CanonSkillClusters', 'SOCCode', 'CanonSkills']]\n",
    "    df['date'] = pd.to_datetime(df['JobDate'])\n",
    "    \n",
    "    df['CanonSkillClusters'] = df['CanonSkillClusters'].apply(element_to_list)\n",
    "    s = df.apply(lambda x: pd.Series(x['CanonSkillClusters']), axis=1).stack(\n",
    "    ).reset_index(level=1, drop=True) # takes a lot of time \n",
    "    s.name = 'CanonSkillClusters'\n",
    "    s = df.drop('CanonSkillClusters', axis=1).join(s)\n",
    "   \n",
    "    return s\n"
   ]
  },
  {
   "cell_type": "code",
   "execution_count": 10,
   "metadata": {},
   "outputs": [],
   "source": [
    "df = expand_skill(df) ##this takes a lot of time"
   ]
  },
  {
   "cell_type": "code",
   "execution_count": 11,
   "metadata": {},
   "outputs": [
    {
     "data": {
      "text/plain": [
       "\"['Information Technology: Microsoft Development Tools', 'Specialised Skills|Information Technology: Web Development', 'Specialised Skills|Design: Graphic and Visual Design Software', 'Specialised Skills|Information Technology: JavaScript and jQuery', 'Specialised Skills|Information Technology: Web Development', 'Specialised Skills|Information Technology: Microsoft Development Tools', 'Specialised Skills|Specialised Skills|Information Technology: Web Development', 'Specialised Skills|Information Technology: Version Control', 'Specialised Skills|Information Technology: Web Development', 'Specialised Skills|Information Technology: JavaScript and jQuery', 'Specialised Skills|Information Technology: JavaScript and jQuery', 'Specialised Skills|Design: Graphic and Visual Design', 'Specialised Skills|Design: User Interface and User Experience (UI/UX) Design', 'Specialised Skills|Information Technology: Web Development', 'Specialised Skills|Information Technology: Web Design', 'Specialised Skills']\""
      ]
     },
     "execution_count": 11,
     "metadata": {},
     "output_type": "execute_result"
    }
   ],
   "source": [
    "df['CanonSkillClusters'].iloc[0]"
   ]
  },
  {
   "cell_type": "code",
   "execution_count": null,
   "metadata": {},
   "outputs": [],
   "source": [
    "## if you want to pritn the columns\n",
    "# for col in df.columns: \n",
    "#     print(col) "
   ]
  },
  {
   "cell_type": "code",
   "execution_count": null,
   "metadata": {},
   "outputs": [],
   "source": [
    "def select_df(df, start_date, end_date, \n",
    "              city = False, sic = False, soc = False, county = False):\n",
    "    mask = (df['date'] >= start_date) & (df['date'] <= end_date)\n",
    "    df = df.loc[mask]\n",
    "    if city != False:\n",
    "        df = df[(df['CanonCity'] == city)]\n",
    "    if sic != False:\n",
    "        df = df[(df['SICCode'].str[:4] == sic)]\n",
    "    if soc != False:\n",
    "        df = df[(df['SOCCode'].str[:3] == soc)]\n",
    "    if county != False:\n",
    "        df = df[(df['CanonCounty'] == county)]\n",
    "        \n",
    "    return df"
   ]
  },
  {
   "cell_type": "markdown",
   "metadata": {},
   "source": [
    "### 1) Calculate frequency counts of CanonSkills for a sub-sampe of job ads tagged as \n",
    "start_date = '2016-01-01'\n",
    "end_date = '2016-01-04'\n",
    "county = 'Oxfordshire'\n",
    "\n"
   ]
  },
  {
   "cell_type": "code",
   "execution_count": null,
   "metadata": {},
   "outputs": [],
   "source": [
    "start_date = '2016-01-01'\n",
    "end_date = '2016-01-04'\n",
    "county = 'Oxfordshire'\n",
    "\n",
    "s1 = select_df(df, start_date = start_date\n",
    "               , end_date = end_date, county = county)\n",
    "skill_count_df = pd.DataFrame(s1['CanonSkills'].value_counts())\n",
    "skill_count_df"
   ]
  },
  {
   "cell_type": "markdown",
   "metadata": {},
   "source": [
    "### 2) Calculate frequency counts of CanonSkills for a sub-sampe of job ads tagged as \n",
    "start_date = '2016-01-01'\n",
    "end_date = '2016-01-04'\n",
    "county = 'Oxfordshire'\n",
    "**for each sic**\n"
   ]
  },
  {
   "cell_type": "code",
   "execution_count": null,
   "metadata": {},
   "outputs": [],
   "source": [
    "start_date = '2016-01-01'\n",
    "end_date = '2016-01-04'\n",
    "county = 'Oxfordshire'\n",
    "\n",
    "s1 = select_df(df, start_date = start_date\n",
    "               , end_date = end_date, county = county)\n",
    "s2 = s1.groupby([\"CanonSkills\", \"SICCode\"]).size()\n",
    "pd.DataFrame(s2)"
   ]
  },
  {
   "cell_type": "markdown",
   "metadata": {},
   "source": [
    "### 3) Calculate frequency counts of CanonSkills for a sub-sampe of job ads tagged as \n",
    "start_date = '2016-01-01'\n",
    "end_date = '2016-01-04'\n",
    "county = 'Oxfordshire'\n",
    "**for each soc**\n"
   ]
  },
  {
   "cell_type": "code",
   "execution_count": null,
   "metadata": {},
   "outputs": [],
   "source": [
    "start_date = '2016-01-01'\n",
    "end_date = '2016-01-04'\n",
    "county = 'Oxfordshire'\n",
    "\n",
    "s1 = select_df(df, start_date = start_date\n",
    "               , end_date = end_date, county = county)\n",
    "s2 = s1.groupby([\"CanonSkills\", \"SOCCode\"]).size()\n",
    "pd.DataFrame(s2)"
   ]
  },
  {
   "cell_type": "markdown",
   "metadata": {},
   "source": [
    "### 4) Calculate frequency counts of CanonSkills for a sub-sampe of job ads tagged as \n",
    "start_date = '2016-01-01'\n",
    "end_date = '2016-01-04'\n",
    "county = 'Oxfordshire'\n",
    "**for each LocalAuthorityDistrict**\n"
   ]
  },
  {
   "cell_type": "code",
   "execution_count": null,
   "metadata": {},
   "outputs": [],
   "source": [
    "start_date = '2016-01-01'\n",
    "end_date = '2016-01-04'\n",
    "county = 'Oxfordshire'\n",
    "\n",
    "s1 = select_df(df, start_date = start_date\n",
    "               , end_date = end_date, county = county)\n",
    "s2 = s1.groupby([\"CanonSkills\", \"LocalAuthorityDistrict\"]).size()\n",
    "pd.DataFrame(s2)"
   ]
  },
  {
   "cell_type": "markdown",
   "metadata": {},
   "source": [
    "### 5) Calculate frequency counts of CanonSkills for a sub-sampe of job ads tagged as \n",
    "start_date = '2016-01-01'\n",
    "end_date = '2016-01-04'\n",
    "county = 'Oxfordshire'\n",
    "**for each CanonCity**\n",
    "\n"
   ]
  },
  {
   "cell_type": "code",
   "execution_count": null,
   "metadata": {},
   "outputs": [],
   "source": [
    "start_date = '2016-01-01'\n",
    "end_date = '2016-01-04'\n",
    "county = 'Oxfordshire'\n",
    "\n",
    "s1 = select_df(df, start_date = start_date\n",
    "               , end_date = end_date, county = county)\n",
    "s2 = s1.groupby([\"CanonSkills\", \"CanonCity\"]).size()\n",
    "pd.DataFrame(s2)"
   ]
  }
 ],
 "metadata": {
  "kernelspec": {
   "display_name": "Python 3",
   "language": "python",
   "name": "python3"
  },
  "language_info": {
   "codemirror_mode": {
    "name": "ipython",
    "version": 3
   },
   "file_extension": ".py",
   "mimetype": "text/x-python",
   "name": "python",
   "nbconvert_exporter": "python",
   "pygments_lexer": "ipython3",
   "version": "3.7.5"
  }
 },
 "nbformat": 4,
 "nbformat_minor": 2
}
