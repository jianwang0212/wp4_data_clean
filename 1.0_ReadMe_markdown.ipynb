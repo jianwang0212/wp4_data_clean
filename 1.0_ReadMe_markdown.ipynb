{
 "cells": [
  {
   "cell_type": "markdown",
   "metadata": {},
   "source": [
    "## read_UK_parquet\n",
    "input: all the parquet weekly data\n",
    "output: all the UK_2012.pkl year data\n",
    "\n",
    "## oxford_data_process_extractor:\n",
    "input: all the UK_2012.pkl data\n",
    "output: UK_Oxford_2012.pkl data\n",
    "then\n",
    "1. UK_Oxford_skill_processed_all.pkl\n",
    "2. UK_Oxford_skillClluster_processed_all.pkl\n",
    "\n",
    "## oxford_counter:  \n",
    "input: UK_Oxford_skill_processed_all.pkl \n",
    "output: Analysis \n",
    "    \n",
    "## oxford_counter_cluster:  \n",
    "input: UK_Oxford_skillCluster_processed_all.pkl \n",
    "output: Analysis "
   ]
  },
  {
   "cell_type": "markdown",
   "metadata": {},
   "source": [
    "Server:\n",
    "cd /mnt/data/zy_data/ && mv data /home/yin/csv_oxford_count\n"
   ]
  },
  {
   "cell_type": "markdown",
   "metadata": {},
   "source": [
    "Local:\n",
    "rsync -avz -e ssh yin@130.61.75.219:/home/yin/csv_oxford_count /Users/Zi/Google\\ Drive/wp4_data "
   ]
  }
 ],
 "metadata": {
  "kernelspec": {
   "display_name": "Python 3",
   "language": "python",
   "name": "python3"
  },
  "language_info": {
   "codemirror_mode": {
    "name": "ipython",
    "version": 3
   },
   "file_extension": ".py",
   "mimetype": "text/x-python",
   "name": "python",
   "nbconvert_exporter": "python",
   "pygments_lexer": "ipython3",
   "version": "3.7.4"
  }
 },
 "nbformat": 4,
 "nbformat_minor": 2
}
