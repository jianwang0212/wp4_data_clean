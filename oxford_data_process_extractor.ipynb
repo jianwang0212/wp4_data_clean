{
 "cells": [
  {
   "cell_type": "code",
   "execution_count": 1,
   "metadata": {},
   "outputs": [],
   "source": [
    "import pandas as pd\n",
    "import pyarrow.parquet as pq\n",
    "import pyarrow as pa\n",
    "import glob\n",
    "import os\n",
    "pd.options.mode.chained_assignment = None"
   ]
  },
  {
   "cell_type": "markdown",
   "metadata": {},
   "source": [
    "### This script is using all the UK_2012.pkl data and transfer to \n",
    "UK_Oxford_2012.pkl data and then transfer to\n",
    "1. UK_Oxford_skill_processed_all.pkl\n",
    "2. UK_Oxford_skillClluster_processed_all.pkl"
   ]
  },
  {
   "cell_type": "code",
   "execution_count": 2,
   "metadata": {},
   "outputs": [],
   "source": [
    "def saveOxfordDataByYear(year):\n",
    "    country = 'UK'\n",
    "    df = pd.read_pickle(country + '_' + str(year) + '.pkl')\n",
    "    df = df[(df['CanonCounty'] == 'Oxfordshire')]\n",
    "    df.to_pickle(country + '_' + 'Oxford' + '_' + str(year) + '.pkl')"
   ]
  },
  {
   "cell_type": "code",
   "execution_count": null,
   "metadata": {},
   "outputs": [],
   "source": [
    "## extract the oxford data\n",
    "for year in range(2013,2020):\n",
    "    saveOxfordDataByYear(year)"
   ]
  },
  {
   "cell_type": "markdown",
   "metadata": {},
   "source": [
    "### UK_Oxford_skill_processed_all.pkl"
   ]
  },
  {
   "cell_type": "code",
   "execution_count": 8,
   "metadata": {},
   "outputs": [],
   "source": [
    "### expand the data by skills\n",
    "def expand_skill(df):\n",
    "    s = df.apply(lambda x: pd.Series(x['CanonSkills']), axis=1).stack(\n",
    "    ).reset_index(level=1, drop=True) # takes a lot of time \n",
    "    s.name = 'CanonSkills'\n",
    "    s = df.drop('CanonSkills', axis=1).join(s)\n",
    "   \n",
    "    return s\n"
   ]
  },
  {
   "cell_type": "code",
   "execution_count": 11,
   "metadata": {},
   "outputs": [],
   "source": [
    "## save all the expanded data into myDataFrame\n",
    "myDataFrame = pd.DataFrame()\n",
    "for year in range(2012,2020):\n",
    "    \n",
    "    df = pd.read_pickle('UK_Oxford' + '_' + str(year) + '.pkl') # read every year data\n",
    "    df2 = expand_skill(df) # process every year data\n",
    "    myDataFrame = myDataFrame.append(df2)\n"
   ]
  },
  {
   "cell_type": "code",
   "execution_count": 14,
   "metadata": {},
   "outputs": [],
   "source": [
    "## save processed skill oxford data \n",
    "myDataFrame.to_pickle(country + '_' + 'Oxford' + '_skill_processed_all'  + '.pkl')\n",
    "                     "
   ]
  },
  {
   "cell_type": "markdown",
   "metadata": {},
   "source": [
    "### UK_Oxford_skillCluster_processed_all.pkl"
   ]
  },
  {
   "cell_type": "code",
   "execution_count": 4,
   "metadata": {},
   "outputs": [],
   "source": [
    "### expand the data by skillsClusters\n",
    "def element_to_list(element):\n",
    "    return str(element).replace(\";\", \"&\").replace('\"', \"\").split(\"&\")\n",
    "\n",
    "def expand_skillCluster(df):\n",
    "    df = df[['JobID', 'SICCode','JobDate','CanonCity','CanonCounty',\n",
    "             'LocalAuthorityDistrict',\n",
    "             'CanonSkillClusters', 'SOCCode', 'CanonSkills']]\n",
    "    df['date'] = pd.to_datetime(df['JobDate'])\n",
    "    \n",
    "    df['CanonSkillClusters'] = df['CanonSkillClusters'].apply(element_to_list)\n",
    "    \n",
    "    s = df.apply(lambda x: pd.Series(x['CanonSkillClusters']), axis=1).stack(\n",
    "    ).reset_index(level=1, drop=True) # takes a lot of time \n",
    "    s.name = 'CanonSkillClusters'\n",
    "    s = df.drop('CanonSkillClusters', axis=1).join(s)\n",
    "   \n",
    "    return s"
   ]
  },
  {
   "cell_type": "code",
   "execution_count": 6,
   "metadata": {},
   "outputs": [],
   "source": [
    "## save all the expanded data into myDataFrame\n",
    "myDataFrame = pd.DataFrame()\n",
    "for year in range(2012,2020):\n",
    "    \n",
    "    df = pd.read_pickle('UK_Oxford' + '_' + str(year) + '.pkl') # read every year data\n",
    "    df2 = expand_skillCluster(df) # process every year data\n",
    "    myDataFrame = myDataFrame.append(df2)"
   ]
  },
  {
   "cell_type": "code",
   "execution_count": 8,
   "metadata": {},
   "outputs": [],
   "source": [
    "## save processed skill cluster oxford data \n",
    "myDataFrame.to_pickle('UK' + '_' + 'Oxford' + '_skillCluster_processed_all'  + '.pkl')\n",
    "   "
   ]
  },
  {
   "cell_type": "code",
   "execution_count": null,
   "metadata": {},
   "outputs": [],
   "source": []
  }
 ],
 "metadata": {
  "kernelspec": {
   "display_name": "Python 3",
   "language": "python",
   "name": "python3"
  },
  "language_info": {
   "codemirror_mode": {
    "name": "ipython",
    "version": 3
   },
   "file_extension": ".py",
   "mimetype": "text/x-python",
   "name": "python",
   "nbconvert_exporter": "python",
   "pygments_lexer": "ipython3",
   "version": "3.7.4"
  }
 },
 "nbformat": 4,
 "nbformat_minor": 2
}
